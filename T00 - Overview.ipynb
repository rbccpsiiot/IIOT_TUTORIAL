{
 "cells": [
  {
   "cell_type": "markdown",
   "metadata": {},
   "source": [
    "### Functional Layers in IIOT Network implementation\n",
    "---\n",
    "1. **IIOT End Devices - IED**\n",
    "2. **IIOT Gateways - IGW**\n",
    "3. **IIOT Middleware - IMW**\n",
    "4. **IIOT Cloud Server - ICS**\n",
    "\n",
    "#### IIOT End Devices (IED)\n",
    "---\n",
    "- End devices devices are interfaced closest to the sensor and actuators. \n",
    "- Examples could be - \n",
    " 1. An Arduino interfaced to a Light Dependent Resistor (LDR) reading the analog voltage of an LDR voltage devider circuit.\n",
    " 2. An ESP8266 Wifi Module interfaced to an LED.\n",
    " \n",
    "#### IIOT Gateways (IGW)\n",
    "---\n",
    "- The gateways are devices which are next up in the hierarchy of the network.\n",
    "- The gateways provide the following services - \n",
    " 1. **Reliable connectivity** between the IIOT Server and the IIOT End Devices. The IGW may buffer the incoming data from various IEDs incase the upstream connection to the IMW is broken and try to push the data once the IMW is reachable again.\n",
    " 2. **Protocol and data bridge** - makes possible the interoperation of IEDs using different protocols and data formats - i.e. an Arduino might be sending sensor reading of LDR analog values using plain text over UART Serial and the IGW can translate the same to a JSON message which might be then sent to the IMW. Similarly an Energy meter might be using a protocol like MODBUS to convey the sensor readings and the IGW will translate the MODBUS formatted datapacket into a JSON message to be sent to the IMW. Similarly JSON commands sent to IEDs containing actuators may be converted to the proper data format and protocol by the IGW before forwarded to the IED.\n",
    " 3. **Management** - The gateway can automatically detect and add new IEDs added to the network or remove faulty IEDs from the network intelligently. In this way the IEDs can be managed via the IGW.\n",
    " 4. **Storage and Analysis** - In certain cases, the IGW can itself act as a data store and can also perform lightweight analysis on the incomming data and push only the very relevant information to the IMW and filtering out the rest. Also the IGW can take certain actions like commanding an actuator based on the analysis of the incoming sensor data and hence the closed loop time to take critical actions can be reduced.\n",
    " \n",
    "#### IIOT Middleware (IMW)\n",
    "---\n",
    "- Next up in the network is the IIOT Middleware which provides the following services in general (which may vary slightly between implementations) -\n",
    " 1. **Persistent data storage**\n",
    " 2. **Analysis on the data**\n",
    " 3. **Automated provisioning**(discovery and removal) of IIOT gateways\n",
    " \n",
    " #### IIOT Cloud Server (ICS)\n",
    " ---\n",
    " - The final layer in the network is the cloud server.\n",
    " - This server has a public IPv4 and/or IPv6 address and is reachable from anywhere on the internet.\n",
    " - The cloud server can be used for -\n",
    "   1. permanent data store \n",
    "   2. online/offline analysis\n",
    "   3. realtime visualisation of the raw/processed data\n",
    "   4. VPN access to the Middleware and the local network in the remote factory floor\n",
    "    "
   ]
  },
  {
   "cell_type": "markdown",
   "metadata": {},
   "source": [
    "### OVERVIEW DIAGRAM\n",
    "---\n",
    "\n",
    "![overview](resources/images/IOTGW-OVERVIEW.jpg)"
   ]
  },
  {
   "cell_type": "code",
   "execution_count": null,
   "metadata": {},
   "outputs": [],
   "source": []
  }
 ],
 "metadata": {
  "kernelspec": {
   "display_name": "Python 3",
   "language": "python",
   "name": "python3"
  },
  "language_info": {
   "codemirror_mode": {
    "name": "ipython",
    "version": 3
   },
   "file_extension": ".py",
   "mimetype": "text/x-python",
   "name": "python",
   "nbconvert_exporter": "python",
   "pygments_lexer": "ipython3",
   "version": "3.6.8"
  }
 },
 "nbformat": 4,
 "nbformat_minor": 2
}
