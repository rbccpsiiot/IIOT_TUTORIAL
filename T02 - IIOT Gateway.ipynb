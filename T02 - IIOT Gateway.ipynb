{
 "cells": [
  {
   "cell_type": "markdown",
   "metadata": {},
   "source": [
    "![overview](resources/images/IOTGW-OVERVIEW-HIGHLIGHT-GW.png)\n",
    "\n",
    "\n",
    "\n",
    "### IIOT Gateway\n",
    "---\n",
    "- The IIOT gateway in our implementation is a Raspberry Pi-3(RPi3) which is a small Single Board Computer (SBC).\n",
    "- The RPi3 runs a Debian OS which is similar to the Ubuntu/Linux OS we use in our desktop.\n",
    "- Many softwares are run on the RPi3 which enable the RPi3 to provide the necessary services needed to be present on a IIOT Gateway.\n",
    "\n",
    "#### Services Running on the RPi3\n",
    "---\n",
    "1. IIOT End Device Driver (IED Driver)\n",
    "2. Mosquitto MQTT Broker\n",
    "3. MQTT to IIOT Middleware Publish Service. \n",
    "\n",
    "#### The diagram below shows the microservices running on the RPi3 -\n",
    "---\n",
    "![IIOT Gateway Architecture](resources/images/IOTGW-DETAILS.jpg)\n"
   ]
  },
  {
   "cell_type": "markdown",
   "metadata": {},
   "source": [
    "---\n",
    "#### IIOT End Device Driver\n",
    "---\n",
    "\n",
    "![IIOT Gateway IED Driver](resources/images/IOTGW-DETAILS-HIGHLIGHT-IEDDRIVER.png)\n",
    "\n",
    "- Now we will develop the Device Driver for our Arduino IIOT End device\n",
    "- We will use Python to develop the device driver.\n",
    "- Since we are using Serial UART over the USB, we will need the **pySerial** python library to read the data coming from the Arduino Serial Port.\n",
    "- Run the code below to install the pySerial python package."
   ]
  },
  {
   "cell_type": "code",
   "execution_count": null,
   "metadata": {},
   "outputs": [],
   "source": [
    "pip install pyserial"
   ]
  },
  {
   "cell_type": "markdown",
   "metadata": {},
   "source": [
    "---\n",
    "##### Now we will list the available Serial ports connected to this machine already.\n",
    "##### Do not connect the Arduino yet (Remove if already connected)\n",
    "##### Run the snippet below.\n",
    "\n",
    "##### It is fine if no serial ports are detected\n",
    "\n",
    "---"
   ]
  },
  {
   "cell_type": "code",
   "execution_count": null,
   "metadata": {},
   "outputs": [],
   "source": [
    "import serial.tools.list_ports\n",
    "\n",
    "def detectSerialPorts():\n",
    "    ports=list(serial.tools.list_ports.comports())\n",
    "    if len(ports):\n",
    "        print(\"Listing USB Serial ports -\")\n",
    "    else:\n",
    "        print(\"No USB Serial Ports found.\")\n",
    "    for p in ports:\n",
    "        print (\"-\",p.device)\n",
    "    return map(lambda x: x.device ,ports)\n",
    "        \n",
    "ports=detectSerialPorts()"
   ]
  },
  {
   "cell_type": "markdown",
   "metadata": {},
   "source": [
    "---\n",
    "- Depending on your OS, the ports maybe COMx (for Windows) or /dev/ttyACMx and /dev/ttyUSBx (for Linux).\n",
    "######  Now plug in the Arduino in which we already uploaded the Analog Read code and call the detectSerialPorts() function again to know the new device added.  \n",
    "---"
   ]
  },
  {
   "cell_type": "code",
   "execution_count": null,
   "metadata": {},
   "outputs": [],
   "source": [
    "updatedPorts=detectSerialPorts()\n",
    "newPorts = list(set(updatedPorts) - set(ports))\n",
    "\n",
    "if len(newPorts)!=0:\n",
    "    arduinoPort = newPorts[0]\n",
    "    print (\"\\nDetected new serial port -\\n- {}\".format(arduinoPort))\n",
    "else:\n",
    "    print(\"\\nNo new serial port detected !!\")\n"
   ]
  },
  {
   "cell_type": "markdown",
   "metadata": {},
   "source": [
    "---\n",
    "###### Now we can read the incoming analog values from the Arduino end device. Run the following snippet.\n",
    "---"
   ]
  },
  {
   "cell_type": "code",
   "execution_count": null,
   "metadata": {},
   "outputs": [],
   "source": [
    "import serial\n",
    "s=serial.Serial(arduinoPort,baudrate=9600,timeout=1)\n",
    "def readAnalog():\n",
    "    val = s.readline()\n",
    "    if val:\n",
    "        try:\n",
    "            data=int(val.strip().decode())\n",
    "            return data\n",
    "        except Exception as e:\n",
    "            print(e)\n",
    "            print(\"Try reading again.\")\n",
    "    else:\n",
    "        print(\"Couldn't read analog value from Arduino IED.\")\n",
    "\n",
    "readAnalog()"
   ]
  },
  {
   "cell_type": "markdown",
   "metadata": {},
   "source": [
    "---\n",
    "###### We can read the Analog values by calling readAnalog. Run the code below.\n",
    "---"
   ]
  },
  {
   "cell_type": "code",
   "execution_count": null,
   "metadata": {},
   "outputs": [],
   "source": [
    "readAnalog()"
   ]
  },
  {
   "cell_type": "markdown",
   "metadata": {},
   "source": [
    "#### Exercise T02A\n",
    "\n",
    "- Complete the function below to read the sensor values of the Arduino IED and find the mean and standard deviation of the last N samples and return then in a tuple.\n"
   ]
  },
  {
   "cell_type": "code",
   "execution_count": null,
   "metadata": {},
   "outputs": [],
   "source": [
    "import numpy as np\n",
    "def readAnalogStats(N):\n",
    "    values=[]\n",
    "    for i in range(N):\n",
    "        values.append(readAnalog()) # complete this line\n",
    "    \n",
    "    \n",
    "    npvalues = np.array(values)\n",
    "    return npvalues.mean(),npvalues.std()\n",
    "        \n",
    "# Call the function\n",
    "readAnalogStats(100)"
   ]
  },
  {
   "cell_type": "markdown",
   "metadata": {},
   "source": [
    "---\n",
    "#### At this point, we have successfully written a simple device driver for our Arduino IED.\n",
    "#### Now let's send the values read using the driver to the Mosquitto MQTT Queue.\n",
    "---\n",
    "\n",
    "![IIOT Gateway MQTTBROKER](resources/images/IOTGW-DETAILS-HIGHLIGHT-MQTTBROKER.png)\n",
    "\n",
    "#### To setup Mosquitto MQTT Broker, please visit the following link -\n",
    "[Mosquitto MQTT Broker](https://mosquitto.org/download/)\n",
    "\n",
    "- Follow the instructions specific to you OS. \n",
    "- After installation, start the Mosquitto service by running mosquitto - (service mosquitto restart - for linux)\n",
    "\n",
    "\n",
    "- In a terminal(command prompt for windows), subscribe to the topic - arduino by running `mosquitto_sub -t arduino`\n",
    "- Now let us see if we can publish our sensor data to the MQTT Broker by running the following code."
   ]
  },
  {
   "cell_type": "code",
   "execution_count": null,
   "metadata": {},
   "outputs": [],
   "source": [
    "import time\n",
    "for i in range(100):    \n",
    "    time.sleep(1)\n",
    "    val=readAnalog()\n",
    "    print(val,end=\"\\t\")\n",
    "    !mosquitto_pub -t arduino -m {val}"
   ]
  },
  {
   "cell_type": "markdown",
   "metadata": {},
   "source": [
    "#### You must now be able to see the values being published in the terminal.\n",
    "\n",
    "In the next tutorial, we will see how to subscribe to the messages published to the MQTT Queue and then forward them to the IIOT Middleware. See you in the next tutorial."
   ]
  },
  {
   "cell_type": "code",
   "execution_count": null,
   "metadata": {},
   "outputs": [],
   "source": []
  }
 ],
 "metadata": {
  "kernelspec": {
   "display_name": "Python 3",
   "language": "python",
   "name": "python3"
  },
  "language_info": {
   "codemirror_mode": {
    "name": "ipython",
    "version": 3
   },
   "file_extension": ".py",
   "mimetype": "text/x-python",
   "name": "python",
   "nbconvert_exporter": "python",
   "pygments_lexer": "ipython3",
   "version": "3.6.7"
  }
 },
 "nbformat": 4,
 "nbformat_minor": 2
}
