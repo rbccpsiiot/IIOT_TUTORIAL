{
 "cells": [
  {
   "cell_type": "markdown",
   "metadata": {},
   "source": [
    "![overview](resources/images/IOTGW-OVERVIEW-HIGHLIGHT-IED.png)\n",
    "\n",
    "\n",
    "### IOT End Devices\n",
    "---\n",
    "- As mentioned already, the end devices are the ones which are interfaced closest to the sensors and the actuators.\n",
    "- The examples we discussed already are - \n",
    " 1. An Arduino interfaced to a sensor - Light Dependent Resistor (LDR) reading the analog voltage of an LDR voltage devider circuit.\n",
    " 2. An ESP8266 Wifi Module interfaced to an actuator - LED.\n",
    " \n",
    "###### We will try to understand and implement the first example -\n",
    "###### Components needed - \n",
    "---\n",
    " 1. Arduino Board\n",
    " 2. USB Cable to connect Arduino to a Computer \n",
    "\n",
    "###### Steps -\n",
    "---\n",
    "- Read this to get a basic idea and get started with an Arduino - [Basic Arduino Tutorial](https://www.arduino.cc/en/Guide/ArduinoUno)\n",
    "\n",
    "---\n",
    "###### Using Online Editor -\n",
    "1. Create an Arduino account here - [Arduino Web Editor](https://create.arduino.cc/editor)\n",
    "2. After creating your account and logging in, go to - [New Arduino Project](https://create.arduino.cc/editor)\n",
    "3. On the left sidebar of the page, select Examples -> Basics -> AnalogReadSerial\n",
    "4. Install the Arduino Create Agent Plugin for your OS, install and run the agent. Click the help option on the top of the page.\n",
    "\n",
    "###### Using Offline Editor -\n",
    "5. Alternatively, one can download the Arduino Software from [Arduino](https://www.arduino.cc/en/Main/Software) and select Files -> Example -> Basics -> AnalogReadSerial.\n",
    "\n",
    "\n",
    "\n",
    "\n",
    "###### Compiling and Uploading the example code - \n",
    "\n",
    "6. Change the delay function argument to 1000 at the bottom of the example code so that it reads **delay(1000);** and check if the example code compiles by clicking on the **verify/compile** button **(tick symbol)**\n",
    "7. If the code compiles successfully, connect the Arduino Board to the USB port.\n",
    "8. Select the board model and the Serial port from under Tools -> Board and Tools -> Port\n",
    "\n",
    "\n",
    "9. Upload the code by clicking the **upload button** (right next to the Verify/Compile button) in the editor.\n",
    "10. After the code is uploaded, open the Serial Monitor from the Tools -> Serial Monitor\n",
    "\n",
    "\n",
    "11. Voltage sampled every second on the Analog pin of the arduino should be shown on the Arduino Serial Monitor, each in a new line.\n",
    "\n",
    "---\n",
    "###### This is a very simple implementation of an IIOT End Device.\n",
    "###### In the next tutorial, we will learn how this data from the end device reaches the IIOT Gateway."
   ]
  },
  {
   "cell_type": "markdown",
   "metadata": {},
   "source": [
    "---\n",
    "#### GO TO : [NEXT TUTORIAL](T02%20-%20IIOT%20Gateway.ipynb)\n",
    "---"
   ]
  },
  {
   "cell_type": "markdown",
   "metadata": {},
   "source": [
    "---\n",
    "#### TUTORIAL FOR ESP8266 AS AN IIOT END DEVICE (ADVANCED )\n",
    "---\n",
    "\n",
    "1. Download MongooseOS from - https://mongoose-os.com/docs/mongoose-os/quickstart/setup.md#1-download-and-install-mos-tool\n",
    "  - Alternatively, run this command - `curl -fsSL https://mongoose-os.com/downloads/mos/install.sh | /bin/bash`\n",
    "  \n",
    "2. "
   ]
  },
  {
   "cell_type": "code",
   "execution_count": null,
   "metadata": {},
   "outputs": [],
   "source": []
  }
 ],
 "metadata": {
  "kernelspec": {
   "display_name": "Python 3",
   "language": "python",
   "name": "python3"
  },
  "language_info": {
   "codemirror_mode": {
    "name": "ipython",
    "version": 3
   },
   "file_extension": ".py",
   "mimetype": "text/x-python",
   "name": "python",
   "nbconvert_exporter": "python",
   "pygments_lexer": "ipython3",
   "version": "3.6.8"
  }
 },
 "nbformat": 4,
 "nbformat_minor": 2
}
