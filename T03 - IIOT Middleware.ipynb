{
 "cells": [
  {
   "cell_type": "markdown",
   "metadata": {},
   "source": [
    "![overview](resources/images/IOTGW-OVERVIEW-HIGHLIGHT-MW.png)\n",
    "\n",
    "\n",
    "####  Let's setup the components (microservices) of the Middleware\n",
    "\n",
    "- A) Elasticsearch Database and Elasticsearch DB Client Driver using HTTP REST APIs.\n",
    "- B) Kibana - to browse the data in the database\n",
    "- C) MQTT Client to receive data from MQTT Queue and pass to Elasticsearch REST Client.\n",
    "\n",
    "---\n",
    "#### A1.  Setting up Elasticsearch\n",
    "---\n",
    "\n",
    "Visit the link to install Elasticsearch on your system\n",
    "https://www.elastic.co/guide/en/elasticsearch/reference/current/getting-started-install.html\n",
    "\n",
    "---\n",
    "#### A2.  Run Elasticsearch\n",
    "---\n",
    "Launch ./elasticsearch from elasticsearch-x.y.z/bin/\n",
    "Launch ./kibana from kibana-x.y.z/bin \n",
    " \n",
    "\n",
    "---\n",
    "####  A3.  Test Elasticsearch\n",
    "---\n",
    "Visit Elasticsearch @ http://localhost:9200\n",
    "\n",
    "---\n",
    "####  A4.  Elasticsearch API\n",
    "---\n",
    "Now that we have installed Elasticsearch, let's understand how we can store data in the DB using the REST APIs provided by Elasticsearch.\n",
    "\n",
    "Please visit the link below to read more about REST and HTTP\n",
    "https://code.tutsplus.com/tutorials/a-beginners-guide-to-http-and-rest--net-16340\n",
    "\n",
    "1. REST APIs use HTTP to query,insert, update and delete data from the DB.\n",
    "2. HTTP is the protocol that makes the World Wide Web possible.\n",
    "3. Everytime we visit a page in a Web Browser, the browser makes a HTTP GET request to fetch the page.\n",
    "4. Also, everytime we submit a form on a webpage, the form data is submitted using a POST request.\n",
    "\n",
    "The common HTTP verbs are - \n",
    "\n",
    "1. GET  - Query data form DB\n",
    "2. POST - Insert data into DB\n",
    "\n",
    "In python, we can use the simple and easy to use `Requests` library to make HTTP requests.\n",
    "\n",
    "Install the library by running the cell below.\n"
   ]
  },
  {
   "cell_type": "code",
   "execution_count": null,
   "metadata": {},
   "outputs": [],
   "source": [
    "pip install requests"
   ]
  },
  {
   "cell_type": "markdown",
   "metadata": {},
   "source": [
    "---\n",
    "#####  A5.  Gentle Introduction to HTTP and REST\n",
    "---\n",
    "\n",
    "Now that we have installed the `Requests` library, let's learn how to use it.\n",
    "\n",
    "###### First of all, let's visit the link - http://httpbin.org/get\n",
    "\n",
    "On visiting the page, we find the details of the HTTP GET Request made.\n",
    "\n",
    "`\n",
    "{\n",
    "  \"args\": {}, \n",
    "  \"headers\": {\n",
    "    \"Accept\": \"text/html,application/xhtml+xml,application/xml;q=0.9,image/webp,image/apng,*/*;q=0.8,application/signed-exchange;v=b3\", \n",
    "    \"Accept-Encoding\": \"gzip, deflate, br\", \n",
    "    \"Accept-Language\": \"en-US,en;q=0.9\", \n",
    "    \"Host\": \"httpbin.org\", \n",
    "    \"Referer\": \"http://localhost:8888/notebooks/T03%20-%20IIOT%20Middleware.ipynb\", \n",
    "    \"Upgrade-Insecure-Requests\": \"1\", \n",
    "    \"User-Agent\": \"Mozilla/5.0 (X11; Linux x86_64) AppleWebKit/537.36 (KHTML, like Gecko) Chrome/74.0.3729.172 Safari/537.36 Vivaldi/2.5.1525.48\"\n",
    "  }, \n",
    "  \"origin\": \"14.139.128.32, 14.139.128.32\", \n",
    "  \"url\": \"https://httpbin.org/get\"\n",
    "}`\n",
    "\n",
    "###### Let's try another time and visit the link - http://httpbin.org/get?user=1\n",
    "\n",
    "This time, we get a response like this - \n",
    "\n",
    "`\n",
    "{\n",
    "  \"args\": {\n",
    "    \"user\": \"1\"\n",
    "  }, \n",
    "  \"headers\": {\n",
    "    \"Accept\": \"text/html,application/xhtml+xml,application/xml;q=0.9,image/webp,image/apng,*/*;q=0.8,application/signed-exchange;v=b3\", \n",
    "    \"Accept-Encoding\": \"gzip, deflate, br\", \n",
    "    \"Accept-Language\": \"en-US,en;q=0.9\", \n",
    "    \"Host\": \"httpbin.org\", \n",
    "    \"Referer\": \"http://localhost:8888/notebooks/T03%20-%20IIOT%20Middleware.ipynb\", \n",
    "    \"Upgrade-Insecure-Requests\": \"1\", \n",
    "    \"User-Agent\": \"Mozilla/5.0 (X11; Linux x86_64) AppleWebKit/537.36 (KHTML, like Gecko) Chrome/74.0.3729.172 Safari/537.36 Vivaldi/2.5.1525.48\"\n",
    "  }, \n",
    "  \"origin\": \"14.139.128.32, 14.139.128.32\", \n",
    "  \"url\": \"https://httpbin.org/get?user=1\"\n",
    "}\n",
    "`\n",
    "\n",
    "- The important part to notice is the **args** field. This time we sent the parameter **user** with the value **1**\n",
    "\n",
    "\n",
    "###### What happened when we visited the link? \n",
    "1. The browser made a HTTP GET request\n",
    "2. The results of the request was returned by the httpbin.org website's server\n",
    "3. The result was displayed by the browser.\n",
    "\n",
    "###### Now let's try to make the same HTTP GET requests using Python by running the cells below"
   ]
  },
  {
   "cell_type": "code",
   "execution_count": null,
   "metadata": {},
   "outputs": [],
   "source": [
    "import requests\n",
    "response=requests.get(\"http://httpbin.org/get\", )\n",
    "print(response.text)"
   ]
  },
  {
   "cell_type": "markdown",
   "metadata": {},
   "source": [
    "###### Let's make another request, this time with the GET parameters.\n",
    "Run the cell below"
   ]
  },
  {
   "cell_type": "code",
   "execution_count": null,
   "metadata": {},
   "outputs": [],
   "source": [
    "response=requests.get(\"http://httpbin.org/get\",params={'user':1})\n",
    "print(response.text)"
   ]
  },
  {
   "cell_type": "markdown",
   "metadata": {},
   "source": [
    "###### Let's now try HTTP POST with Python requests\n",
    "\n",
    "1. HTTP POST requets can be used to send data over HTTP requests.\n",
    "2. The data sent over a POST request can be in JSON format\n",
    "3. Read more about JSON here - https://en.wikipedia.org/wiki/JSON#Example\n",
    "\n",
    "###### Run the following cell to post JSON data to the usrl at http://httpbin.org/post "
   ]
  },
  {
   "cell_type": "code",
   "execution_count": null,
   "metadata": {},
   "outputs": [],
   "source": [
    "response=requests.post(\"http://httpbin.org/post\",json={\"user\":1})\n",
    "print(response.text)"
   ]
  },
  {
   "cell_type": "markdown",
   "metadata": {},
   "source": [
    "---\n",
    "#####  A6. Elasticsearch API (Continued)\n",
    "---\n",
    "\n",
    "![overview](resources/images/IOTGW-DETAILS-HIGHLIGHT-MWHTTPCLIENT.png)\n",
    "\n",
    "\n",
    "Now that we have figured out how to make GET and POST requests using python, we will try to insert some data into the Elasticsearch DB. In the process we will understand about the HTTP REST DB Client which is highlighted in the diagram above. \n",
    "\n",
    "Elasticsearch stores data in `indices` which are similar to a how data is stored in `Tables` in a Relational DB like MySQL.\n",
    "\n",
    "Let's call the index as `arduino` as we are storing data from the arduino. We can name it anything sensible.\n",
    "Another sensible name could be `SensorName` where SensorName is the name of the sensor from which data is inserted into the DB - e.g LightSensor, MoistureSensor, TemperatureSensor, etc.\n",
    "\n",
    "To insert data into an index called INDEXNAME, we post the data to the URL - http://localhost:9200/INDEXNAME/_doc\n",
    "\n",
    "Run the following cell to insert a JSON document containing some dummy sensor values into the Elasticsearch DB.\n",
    "\n"
   ]
  },
  {
   "cell_type": "code",
   "execution_count": 2,
   "metadata": {},
   "outputs": [
    {
     "ename": "NameError",
     "evalue": "name 'requests' is not defined",
     "output_type": "error",
     "traceback": [
      "\u001b[0;31m---------------------------------------------------------------------------\u001b[0m",
      "\u001b[0;31mNameError\u001b[0m                                 Traceback (most recent call last)",
      "\u001b[0;32m<ipython-input-2-649256cf3578>\u001b[0m in \u001b[0;36m<module>\u001b[0;34m\u001b[0m\n\u001b[1;32m      7\u001b[0m \u001b[0mdummySensorReading\u001b[0m\u001b[0;34m=\u001b[0m\u001b[0;34m{\u001b[0m\u001b[0;34m\"temperature\"\u001b[0m\u001b[0;34m:\u001b[0m\u001b[0;36m25\u001b[0m\u001b[0;34m,\u001b[0m\u001b[0;34m\"timestamp\"\u001b[0m\u001b[0;34m:\u001b[0m\u001b[0mdatetime\u001b[0m\u001b[0;34m.\u001b[0m\u001b[0mdatetime\u001b[0m\u001b[0;34m.\u001b[0m\u001b[0mnow\u001b[0m\u001b[0;34m(\u001b[0m\u001b[0;34m)\u001b[0m\u001b[0;34m.\u001b[0m\u001b[0misoformat\u001b[0m\u001b[0;34m(\u001b[0m\u001b[0;34m)\u001b[0m\u001b[0;34m}\u001b[0m\u001b[0;34m\u001b[0m\u001b[0;34m\u001b[0m\u001b[0m\n\u001b[1;32m      8\u001b[0m \u001b[0;34m\u001b[0m\u001b[0m\n\u001b[0;32m----> 9\u001b[0;31m \u001b[0mresponse\u001b[0m\u001b[0;34m=\u001b[0m\u001b[0mrequests\u001b[0m\u001b[0;34m.\u001b[0m\u001b[0mpost\u001b[0m\u001b[0;34m(\u001b[0m\u001b[0murl\u001b[0m\u001b[0;34m,\u001b[0m\u001b[0mjson\u001b[0m\u001b[0;34m=\u001b[0m\u001b[0mdummySensorReading\u001b[0m\u001b[0;34m)\u001b[0m\u001b[0;34m\u001b[0m\u001b[0;34m\u001b[0m\u001b[0m\n\u001b[0m\u001b[1;32m     10\u001b[0m \u001b[0mpprint\u001b[0m\u001b[0;34m(\u001b[0m\u001b[0mresponse\u001b[0m\u001b[0;34m.\u001b[0m\u001b[0mjson\u001b[0m\u001b[0;34m(\u001b[0m\u001b[0;34m)\u001b[0m\u001b[0;34m)\u001b[0m\u001b[0;34m\u001b[0m\u001b[0;34m\u001b[0m\u001b[0m\n",
      "\u001b[0;31mNameError\u001b[0m: name 'requests' is not defined"
     ]
    }
   ],
   "source": [
    "from pprint import pprint\n",
    "import datetime\n",
    "\n",
    "ElasticsearchBaseURL=\"http://localhost:9200/\"\n",
    "index=\"arduino\"\n",
    "url= ElasticsearchBaseURL + index + \"/_doc\"\n",
    "dummySensorReading={\"temperature\":25,\"timestamp\":datetime.datetime.now().isoformat()}\n",
    "\n",
    "response=requests.post(url,json=dummySensorReading)\n",
    "pprint(response.json())"
   ]
  },
  {
   "cell_type": "markdown",
   "metadata": {},
   "source": [
    "\n",
    "###### Let us now retrieve the document we just stored in the Elasticsearch DB.\n"
   ]
  },
  {
   "cell_type": "code",
   "execution_count": 1,
   "metadata": {},
   "outputs": [
    {
     "ename": "NameError",
     "evalue": "name 'requests' is not defined",
     "output_type": "error",
     "traceback": [
      "\u001b[0;31m---------------------------------------------------------------------------\u001b[0m",
      "\u001b[0;31mNameError\u001b[0m                                 Traceback (most recent call last)",
      "\u001b[0;32m<ipython-input-1-1cca28b41e78>\u001b[0m in \u001b[0;36m<module>\u001b[0;34m\u001b[0m\n\u001b[0;32m----> 1\u001b[0;31m \u001b[0mresponse\u001b[0m\u001b[0;34m=\u001b[0m\u001b[0mrequests\u001b[0m\u001b[0;34m.\u001b[0m\u001b[0mget\u001b[0m\u001b[0;34m(\u001b[0m\u001b[0mElasticsearchBaseURL\u001b[0m  \u001b[0;34m+\u001b[0m\u001b[0mindex\u001b[0m\u001b[0;34m+\u001b[0m \u001b[0;34m\"/_search\"\u001b[0m\u001b[0;34m)\u001b[0m\u001b[0;34m\u001b[0m\u001b[0;34m\u001b[0m\u001b[0m\n\u001b[0m\u001b[1;32m      2\u001b[0m \u001b[0mpprint\u001b[0m\u001b[0;34m(\u001b[0m\u001b[0mresponse\u001b[0m\u001b[0;34m.\u001b[0m\u001b[0mjson\u001b[0m\u001b[0;34m(\u001b[0m\u001b[0;34m)\u001b[0m\u001b[0;34m)\u001b[0m\u001b[0;34m\u001b[0m\u001b[0;34m\u001b[0m\u001b[0m\n",
      "\u001b[0;31mNameError\u001b[0m: name 'requests' is not defined"
     ]
    }
   ],
   "source": [
    "response=requests.get(ElasticsearchBaseURL  +index+ \"/_search\")\n",
    "pprint(response.json())"
   ]
  },
  {
   "cell_type": "markdown",
   "metadata": {},
   "source": [
    "---\n",
    "##### A7. Summary \n",
    "---\n",
    "\n",
    "1. Elasticsearch DB can be used to store and retireve JSON documents (in an INDEX) created from sensor data\n",
    "2. REST APIs like POST and GET are used to insert and query data from Elasticsearch DB into/from an INDEX \n",
    "3. HTTP DELETE method can be used to delete an INDEX\n",
    "4. To insert data we POST to the ElasticsearchBaseURL (default: http://localhost:9200) with INDEX name appended and `_doc` appended to the path i.e http://localhost:9200/INDEXNAME/_doc\n",
    "5. To query the data stored in an INDEX, we use the URL http://localhost:9200/INDEXNAME/_search\n",
    "6. To delete and INDEX, we make an HTTP DELETE request to the URL http://localhost:9200/INDEXNAME"
   ]
  },
  {
   "cell_type": "markdown",
   "metadata": {},
   "source": [
    "---\n",
    "#### B1. Setting up Kibana\n",
    "---\n",
    "Visit the link to install Kibana on your system\n",
    "https://www.elastic.co/guide/en/kibana/current/targz.html\n",
    "\n",
    "---\n",
    "####  B2. Run Kibana\n",
    "---\n",
    "Launch ./elasticsearch from elasticsearch-x.y.z/bin/\n",
    "Launch ./kibana from kibana-x.y.z/bin\n",
    "\n",
    "---\n",
    "####  B3. Test Kibana\n",
    "---\n",
    "Visit Kibana @ http://localhost:5601\n",
    "\n",
    "#### B4. Add Index Pattern in Kibana Management\n",
    "\n",
    "- Visit the Management page by clicking on the Management tab in the Left Sidebar.\n",
    "- Add a new index pattern called `arduino`\n",
    "\n",
    "\n",
    "#### B5. Discover in Kibana\n",
    "\n",
    "- Click on the Discover tab on the left sidebar.\n",
    "- Select the index pattern we just created - `arduino`\n",
    "- Select the time range in the top right bar to last one hour\n",
    "- Now we should be able to see the data we just stored in Elasticsearch DB.\n",
    "\n"
   ]
  },
  {
   "cell_type": "markdown",
   "metadata": {},
   "source": [
    "---\n",
    "#### C. Forwading MQTT messages to Elasticsearch DB using MQTT Client and Elasticsearch HTTP Client\n",
    "---\n",
    "\n",
    "Let us subscribe to the topic `arduino` and push the data received to Elasticsearch DB.\n",
    "\n",
    "The following cell defines a function which subscribes to a given topic and returns the message only after it is received.\n"
   ]
  },
  {
   "cell_type": "code",
   "execution_count": 14,
   "metadata": {},
   "outputs": [],
   "source": [
    "def get_mqtt_message(topic):\n",
    "    msg=!mosquitto_sub -t {topic} -C 1\n",
    "    return msg[0]"
   ]
  },
  {
   "cell_type": "markdown",
   "metadata": {},
   "source": [
    "Similarly let's define a function which takes two parameters - `index` and `data`, creates a JSON document(python dictionary) with a timestamp and stores the data into the Elasticsearch DB using a HTTP POST request"
   ]
  },
  {
   "cell_type": "code",
   "execution_count": 32,
   "metadata": {},
   "outputs": [],
   "source": [
    "import datetime\n",
    "import requests\n",
    "ES_BASE_URL = \"http://10.10.10.1:9200/{}/\"\n",
    "def store_in_db(index,data):\n",
    "    document={\"raw_data\": data,\"timestamp\":datetime.datetime.now().isoformat()}\n",
    "    result=requests.post(ES_BASE_URL.format(index) + \"_doc\",json=document)\n",
    "    print (result.text)\n",
    "    "
   ]
  },
  {
   "cell_type": "code",
   "execution_count": 33,
   "metadata": {},
   "outputs": [
    {
     "name": "stdout",
     "output_type": "stream",
     "text": [
      "{\"_index\":\"arduino\",\"_type\":\"_doc\",\"_id\":\"3ysUTWsBAxrrJyq9sZzA\",\"_version\":1,\"result\":\"created\",\"_shards\":{\"total\":2,\"successful\":1,\"failed\":0},\"_seq_no\":0,\"_primary_term\":1}\n"
     ]
    }
   ],
   "source": [
    "store_in_db(\"arduino\",\"hello\")"
   ]
  },
  {
   "cell_type": "markdown",
   "metadata": {},
   "source": [
    "Similarly let's define a function which returns the last inserted document form a given index"
   ]
  },
  {
   "cell_type": "code",
   "execution_count": 104,
   "metadata": {},
   "outputs": [],
   "source": [
    "def query_from_db(index):\n",
    "    result=requests.get(ES_BASE_URL.format(index)+\"_search\")\n",
    "    print(sorted(result.json()[\"hits\"][\"hits\"],key=lambda x:x['_source']['timestamp'])[-1][\"_source\"])"
   ]
  },
  {
   "cell_type": "code",
   "execution_count": 105,
   "metadata": {},
   "outputs": [
    {
     "name": "stdout",
     "output_type": "stream",
     "text": [
      "{'raw_data': 'world', 'timestamp': '2019-06-13T00:46:13.284892'}\n"
     ]
    }
   ],
   "source": [
    "query_from_db(\"arduino\")"
   ]
  },
  {
   "cell_type": "markdown",
   "metadata": {},
   "source": [
    "---\n",
    "#### Now let's write a function which gets data from the Arduino topic and stores the value received in the Elasticsearch DB\n",
    "---"
   ]
  },
  {
   "cell_type": "code",
   "execution_count": 106,
   "metadata": {},
   "outputs": [],
   "source": [
    "import time\n",
    "def forward():\n",
    "    data = get_mqtt_message(\"arduino\")\n",
    "    store_in_db(\"arduino\",data)\n",
    "    time.sleep(5)\n",
    "    query_from_db(\"arduino\")"
   ]
  },
  {
   "cell_type": "code",
   "execution_count": 107,
   "metadata": {},
   "outputs": [
    {
     "name": "stdout",
     "output_type": "stream",
     "text": [
      "{\"_index\":\"arduino\",\"_type\":\"_doc\",\"_id\":\"6SshTWsBAxrrJyq9DJyr\",\"_version\":1,\"result\":\"created\",\"_shards\":{\"total\":2,\"successful\":1,\"failed\":0},\"_seq_no\":0,\"_primary_term\":1}\n",
      "{'raw_data': 'world123', 'timestamp': '2019-06-13T00:49:00.078887'}\n"
     ]
    }
   ],
   "source": [
    "forward()"
   ]
  },
  {
   "cell_type": "code",
   "execution_count": null,
   "metadata": {},
   "outputs": [],
   "source": []
  }
 ],
 "metadata": {
  "kernelspec": {
   "display_name": "Python 3",
   "language": "python",
   "name": "python3"
  },
  "language_info": {
   "codemirror_mode": {
    "name": "ipython",
    "version": 3
   },
   "file_extension": ".py",
   "mimetype": "text/x-python",
   "name": "python",
   "nbconvert_exporter": "python",
   "pygments_lexer": "ipython3",
   "version": "3.6.7"
  }
 },
 "nbformat": 4,
 "nbformat_minor": 2
}
